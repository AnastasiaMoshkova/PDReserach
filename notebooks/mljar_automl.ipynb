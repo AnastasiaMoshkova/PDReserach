{
 "cells": [
  {
   "cell_type": "code",
   "execution_count": 10,
   "id": "ed41c322-9bd4-461e-a0bd-b670e9b7d363",
   "metadata": {},
   "outputs": [
    {
     "name": "stderr",
     "output_type": "stream",
     "text": [
      "C:\\Users\\kafed\\AppData\\Local\\Programs\\Python\\Python310\\lib\\site-packages\\tqdm\\auto.py:21: TqdmWarning: IProgress not found. Please update jupyter and ipywidgets. See https://ipywidgets.readthedocs.io/en/stable/user_install.html\n",
      "  from .autonotebook import tqdm as notebook_tqdm\n"
     ]
    }
   ],
   "source": [
    "from supervised.automl import AutoML\n",
    "import pandas as pd\n",
    "import numpy as np\n",
    "from sklearn.model_selection import StratifiedGroupKFold\n",
    "from sklearn.model_selection import LeaveOneGroupOut\n",
    "from sklearn.metrics import balanced_accuracy_score\n",
    "from sklearn.utils.class_weight import compute_sample_weight\n",
    "import os\n",
    "import sys\n",
    "project_directory = os.path.abspath(os.path.join(os.path.dirname(os.getcwd()), \".\"))\n",
    "sys.path.append(project_directory)\n",
    "from ml_cls.ml_base import MLBase"
   ]
  },
  {
   "cell_type": "code",
   "execution_count": 12,
   "id": "61ed22b8-5703-421d-b166-57b735d2adc4",
   "metadata": {},
   "outputs": [],
   "source": [
    "#загрузка и предобработка датасета\n",
    "df = pd.read_csv(r'D:\\PDResearch\\experiments\\feature_extraction\\runs\\2024-08-24_16-48-54\\feature_dataset.csv')\n",
    "features = ['VarFrq_PS','AvgFrqF_AU4_p11','DA_Surprise','AvgVopen_AU4_p11','DecFV_AU4_p11','DI_Happiness','VarVopen_PS','DI_Disgust','AvgVopen_PS','VarA_FT','AvgA_OC','AvgVopen_FT','NumA_PS','VarVclose_FT','AvgFrqF_AU12_p5','NumA_OC','DecA_FT','AvgVopen_OC','AvgVclose_AU12_p5','AvgFrq_FT','DA_Anger','Length_AU12_p5']\n",
    "df['stage'] = df['stage'].replace({3.5:3, 2.5:3}).apply(int)\n",
    "df = MLBase({}).fill_DI_healthy(df, features)\n",
    "\n",
    "#можно не удалятть, тогда automl заполнит пропуски сам\n",
    "df = df.dropna(subset = features)"
   ]
  },
  {
   "cell_type": "code",
   "execution_count": null,
   "id": "18fcc9ae-7e12-4037-b2a5-a899ef943ede",
   "metadata": {},
   "outputs": [],
   "source": [
    "#Далее пример для обучения automl с warm, в примере без разделения на train и test, но разделение должно быть"
   ]
  },
  {
   "cell_type": "code",
   "execution_count": null,
   "id": "92b966f3-0932-4dc5-b34a-c501bd1a20e5",
   "metadata": {},
   "outputs": [],
   "source": [
    "#для train set \n",
    "logo = LeaveOneGroupOut()\n",
    "#logo = StratifiedGroupKFold(n_splits=8)\n",
    "folds_array = list(logo.split(df[features], df['stage'].apply(int), groups = df['id']))\n",
    "validation_strategy = { \"validation_type\": \"custom\",'folds': folds_array}\n",
    "algorithms = [ 'CatBoost',  'LightGBM', 'Linear', 'Neural Network', 'Random Forest', 'Xgboost'] #['CatBoost', 'Extra Trees', ] #['Baseline',  'CatBoost', 'Decision Tree', 'Extra Trees', 'Nearest Neighbors', 'LightGBM', 'Linear', 'Neural Network', 'Random Forest', 'Xgboost']\n",
    "#`logloss`, `f1`, `accuracy`\n",
    "automl = AutoML(algorithms = algorithms,\n",
    "               mode = \"Perform\", #\"Perform\", #\"Compete\"\n",
    "               ml_task = \"multiclass_classification\",\n",
    "               eval_metric = \"accuracy\",\n",
    "               results_path = \"D:\\\\PDResearch\\\\notebooks\\\\utils\\\\automl1\\\\\", #path to output\n",
    "               total_time_limit = 60 * 60 * 3,\n",
    "                explain_level = 2,\n",
    "                validation_strategy = validation_strategy)\n",
    "df['class'] = df['stage'].apply(int)\n",
    "df['sample_weight'] = compute_sample_weight(class_weight=\"balanced\", y=df['class'])\n",
    "automl.fit(df[features], df['class'].values, sample_weight=df['sample_weight'].values, cv = folds_array)\n",
    "\n",
    "#для test set\n",
    "automl.predict(df[features])"
   ]
  }
 ],
 "metadata": {
  "kernelspec": {
   "display_name": "Python 3 (ipykernel)",
   "language": "python",
   "name": "python3"
  },
  "language_info": {
   "codemirror_mode": {
    "name": "ipython",
    "version": 3
   },
   "file_extension": ".py",
   "mimetype": "text/x-python",
   "name": "python",
   "nbconvert_exporter": "python",
   "pygments_lexer": "ipython3",
   "version": "3.10.11"
  }
 },
 "nbformat": 4,
 "nbformat_minor": 5
}
